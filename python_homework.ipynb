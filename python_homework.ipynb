{
 "cells": [
  {
   "cell_type": "markdown",
   "id": "62d8a23e-3e23-44cc-9c26-f37caba40ed3",
   "metadata": {},
   "source": [
    "# Даны действительные числа А, В, С - стороны треугольника, найти его периметр."
   ]
  },
  {
   "cell_type": "code",
   "execution_count": 1,
   "id": "93bfa03d-6345-4037-8127-4db92df9f6c6",
   "metadata": {},
   "outputs": [
    {
     "name": "stdin",
     "output_type": "stream",
     "text": [
      "Введите длину стороны A:  3\n",
      "Введите длину стороны B:  4\n",
      "Введите длину стороны C:  5\n"
     ]
    },
    {
     "name": "stdout",
     "output_type": "stream",
     "text": [
      "Периметр треугольника равен: 12\n"
     ]
    }
   ],
   "source": [
    "a = int(input(\"Введите длину стороны A: \"))\n",
    "b = int(input(\"Введите длину стороны B: \"))\n",
    "c = int(input(\"Введите длину стороны C: \"))\n",
    "# Проверяем существует ли такой треугольник, если да - считаем периметр\n",
    "if (a + b > c) and (a + c > b) and (b + c > a):\n",
    "    perimetr = a + b + c\n",
    "    print(\"Периметр треугольника равен:\", perimetr)\n",
    "else:\n",
    "    print(\"Такого треугольника не бывает.\")"
   ]
  },
  {
   "cell_type": "markdown",
   "id": "c579f335-9108-4f2a-9d4b-a9f13ccb5b58",
   "metadata": {},
   "source": [
    "# Даны целочисленные координаты трёх вершин прямоугольника, стороны которого параллельны координатным осям. Найти координаты его четвёртой вершины."
   ]
  },
  {
   "cell_type": "code",
   "execution_count": 2,
   "id": "77648675-c26b-481c-bb6b-ec49977ee65f",
   "metadata": {},
   "outputs": [
    {
     "name": "stdout",
     "output_type": "stream",
     "text": [
      "Введите координаты точек. Формат ввода: x y\n"
     ]
    },
    {
     "name": "stdin",
     "output_type": "stream",
     "text": [
      "Первая точка:  2 8\n",
      "Вторая точка:  2 5\n",
      "Третья точка:  8 5\n"
     ]
    },
    {
     "name": "stdout",
     "output_type": "stream",
     "text": [
      "Координаты четвёртой точки: [8.0, 8.0]\n"
     ]
    },
    {
     "data": {
      "image/png": "[encoded data removed]",
      "text/plain": [
       "<Figure size 640x480 with 1 Axes>"
      ]
     },
     "metadata": {},
     "output_type": "display_data"
    }
   ],
   "source": [
    "from collections import Counter\n",
    "from math import sqrt\n",
    "import matplotlib.pyplot as plt\n",
    "\n",
    "print(\"Введите координаты точек. Формат ввода: x y\")\n",
    "point_1 = input(\"Первая точка: \")\n",
    "point_2 = input(\"Вторая точка: \")\n",
    "point_3 = input(\"Третья точка: \")\n",
    "\n",
    "# Отделяем координаты x от y\n",
    "x1, y1 = map(int, point_1.split(\" \"))\n",
    "x2, y2 = map(int, point_2.split(\" \"))\n",
    "x3, y3 = map(int, point_3.split(\" \"))\n",
    "\n",
    "# Пакуем в листы \n",
    "x_axis_num = [x1, x2, x3]\n",
    "y_axis_num = [y1, y2, y3]\n",
    "\n",
    "# Ищем дубликаты, которых больше чем 2\n",
    "x_list = Counter(x_axis_num)\n",
    "y_list = Counter(y_axis_num)\n",
    "x_axis_dupl = [item for item in x_list if x_list[item] > 2]\n",
    "y_axis_dupl = [item for item in y_list if y_list[item] > 2]\n",
    "\n",
    "# Проводим проверку на наличие трёх и более совпадающих координат \n",
    "if len(x_axis_dupl) > 0 or len(y_axis_dupl) > 0:\n",
    "    print(\"Такого прямоугольника быть не может\")\n",
    "\n",
    "else:  \n",
    "    # Если схожих координат не больше двух:         \n",
    "    \n",
    "    # Нахождение длин отрезков AB, AC, BC, выяснение что из этого гипотенуза, а что катеты\n",
    "    a = sqrt(\n",
    "        (x_axis_num[1] - x_axis_num[0]) ** 2\n",
    "        + (y_axis_num[1] - y_axis_num[0]) ** 2\n",
    "    )\n",
    "    b = sqrt(\n",
    "        (x_axis_num[2] - x_axis_num[0]) ** 2\n",
    "        + (y_axis_num[2] - y_axis_num[0]) ** 2\n",
    "    )\n",
    "    c = sqrt(\n",
    "        (x_axis_num[2] - x_axis_num[1]) ** 2\n",
    "        + (y_axis_num[2] - y_axis_num[1]) ** 2\n",
    "    )\n",
    "    \n",
    "    # Проверка на возможное существование такого треугольника \n",
    "    if (a + b > c) and (a + c > b) and (b + c > a):\n",
    "        \n",
    "        # Вычисляем что из данного - гипотенуза\n",
    "        hypotenuse = max(a, b, c)\n",
    "\n",
    "        if hypotenuse == a:\n",
    "            # Сортируем исходные листы так, чтобы координаты точки, не входящей в гипотенузу треугольника находились между координатами гипотенузы\n",
    "            sort_list = [x_axis_num[0], x_axis_num[2], x_axis_num[1]]\n",
    "            x_axis_num = sort_list\n",
    "            sort_list = [y_axis_num[0], y_axis_num[2], y_axis_num[1]]\n",
    "            \n",
    "            # Находим координаты середины гипотенузы и четвёртую точку\n",
    "            half_hypotenuse = [\n",
    "                (x_axis_num[0] + x_axis_num[2]) / 2,\n",
    "                (y_axis_num[0] + y_axis_num[2]) / 2,\n",
    "            ]\n",
    "            # Нахождение четвёртой координаты\n",
    "            d_var = [\n",
    "                (half_hypotenuse[0] * 2 - x_axis_num[1]),\n",
    "                (half_hypotenuse[1] * 2 - y_axis_num[1]),\n",
    "            ]\n",
    "\n",
    "        elif hypotenuse == b:\n",
    "            # В данном случае сортировка не нужна, лист остаётся исходным\n",
    "            half_hypotenuse = [\n",
    "                (x_axis_num[0] + x_axis_num[2]) / 2,\n",
    "                (y_axis_num[0] + y_axis_num[2]) / 2,\n",
    "            ]\n",
    "            # Нахождение четвёртой координаты\n",
    "            d_var = [\n",
    "                (half_hypotenuse[0] * 2 - x_axis_num[1]),\n",
    "                (half_hypotenuse[1] * 2 - y_axis_num[1]),\n",
    "            ]\n",
    "\n",
    "        else:\n",
    "            # Сортируем исходные листы так, чтобы координаты точки, не входящей в гипотенузу треугольника находились между координатами гипотенузы\n",
    "            sort_list = [x_axis_num[1], x_axis_num[0], x_axis_num[2]]\n",
    "            x_axis_num = sort_list\n",
    "            sort_list = [y_axis_num[1], y_axis_num[0], y_axis_num[2]]\n",
    "\n",
    "            # Находим координаты середины гипотенузы и четвёртую точку\n",
    "            half_hypotenuse = [\n",
    "                (x_axis_num[0] + x_axis_num[2]) / 2,\n",
    "                (y_axis_num[0] + y_axis_num[2]) / 2,\n",
    "            ]\n",
    "            # Нахождение четвёртой координаты\n",
    "            d_var = [\n",
    "                (half_hypotenuse[0] * 2 - x_axis_num[1]),\n",
    "                (half_hypotenuse[1] * 2 - y_axis_num[1]),\n",
    "            ]\n",
    "\n",
    "        # Добавляем четвёртую точку в листы х и у, и ещё раз первую, чтобы начертить прямоугольник\n",
    "        x_axis_num.append(d_var[0])\n",
    "        y_axis_num.append(d_var[1])\n",
    "        x_axis_num.append(x_axis_num[0])\n",
    "        y_axis_num.append(y_axis_num[0])\n",
    "        \n",
    "        # Четвёртая координата\n",
    "        D = [x_axis_num[3], y_axis_num[3]]\n",
    "        print(\"Координаты четвёртой точки:\", D)\n",
    "        \n",
    "        \n",
    "        # Создаём фигуру\n",
    "        plt.figure(num=\"rectangle\", dpi=100)\n",
    "\n",
    "        # Настраиваем график\n",
    "        plt.grid(visible=True, linewidth=1, which=\"both\")\n",
    "        plt.title(label=\"Прямоугольник\", fontsize=14)\n",
    "\n",
    "        plt.xlabel(xlabel=\"Ось X\", loc=\"center\")\n",
    "        plt.ylabel(ylabel=\"Ось Y\", loc=\"center\")\n",
    "\n",
    "        # Выводим\n",
    "        plt.plot(x_axis_num, y_axis_num)\n",
    "        plt.show()\n",
    "    else:\n",
    "        # В случае, если проверка на существование треугольника не пройдена\n",
    "        print(\"Такого прямоугольника быть не может.\")\n"
   ]
  },
  {
   "cell_type": "markdown",
   "id": "c4564041-7b0b-473d-91b3-d575b654771e",
   "metadata": {},
   "source": [
    "# По координатам определить, в какой четверти находится точка. Отобразить точку на осях координат"
   ]
  },
  {
   "cell_type": "code",
   "execution_count": 3,
   "id": "2cc2c380-bf5a-482b-9004-3c857654881c",
   "metadata": {},
   "outputs": [
    {
     "name": "stdin",
     "output_type": "stream",
     "text": [
      "Введите координаты точки x:  -2\n",
      "Введите координаты точки y:  6\n"
     ]
    },
    {
     "name": "stdout",
     "output_type": "stream",
     "text": [
      "Точка находится во 2 четверти\n"
     ]
    },
    {
     "data": {
      "image/png": "[encoded data removed]",
      "text/plain": [
       "<Figure size 640x480 with 1 Axes>"
      ]
     },
     "metadata": {},
     "output_type": "display_data"
    }
   ],
   "source": [
    "import matplotlib.pyplot as plt \n",
    "    \n",
    "# Получаем координаты точки\n",
    "x = int(input(\"Введите координаты точки x: \"))\n",
    "y = int(input(\"Введите координаты точки y: \"))\n",
    "\n",
    "\n",
    "# Определение, в какой четверти находится точка ()\n",
    "if x > 0 and y > 0:\n",
    "    point = \"в 1 четверти\"\n",
    "elif x > 0 and y < 0:\n",
    "    point = \"в 4 четверти\"\n",
    "elif (x > 0 and y == 0) or (x < 0 and y == 0):\n",
    "    point = \"на оси X\"\n",
    "elif x == 0 and y == 0:\n",
    "    point = \"в начале координат\"\n",
    "elif (x == 0 and y < 0) or (x == 0 and y > 0):\n",
    "    point = \"на оси Y\"\n",
    "elif x < 0 and y > 0:\n",
    "    point = \"во 2 четверти\"\n",
    "else:\n",
    "    point = \"в 3 четверти\"\n",
    "\n",
    "print(\"Точка находится\", point)\n",
    "\n",
    "# Создаём фигуру\n",
    "plt.figure(num=\"dot\", dpi=100)\n",
    "\n",
    "# Настраиваем график\n",
    "plt.title(label=\"Точка\", fontsize=14)\n",
    "plt.xlabel(xlabel=\"Ось X\", loc=\"center\")\n",
    "plt.ylabel(ylabel=\"Ось Y\", loc=\"center\")\n",
    "\n",
    "# Выводим\n",
    "plt.plot(x, y, \"ro\")\n",
    "plt.show()\n"
   ]
  },
  {
   "cell_type": "markdown",
   "id": "5138f36a-315d-49ff-8d17-72d56f50da0e",
   "metadata": {},
   "source": [
    "# Перевести символы нижнего регистра в верхний, а верхнего в нижний"
   ]
  },
  {
   "cell_type": "code",
   "execution_count": 6,
   "id": "0767d5ab-a5c0-42fb-a766-1af0dd04185e",
   "metadata": {},
   "outputs": [
    {
     "name": "stdin",
     "output_type": "stream",
     "text": [
      "Введите строку:  В недрах Тундры вЫдры в гетраХ тыРят в ВЁдра Ядра КЕДРОВ\n"
     ]
    },
    {
     "name": "stdout",
     "output_type": "stream",
     "text": [
      "в НЕДРАХ тУНДРЫ ВыДРЫ В ГЕТРАх ТЫрЯТ В вёДРА яДРА кедров\n"
     ]
    }
   ],
   "source": [
    "# Получаем ввод пользователя\n",
    "user_inp = input(\"Введите строку: \")\n",
    "# Готовим новую строку\n",
    "new_str = \"\"\n",
    "for i in user_inp:\n",
    "    # Меняем регистры\n",
    "    if i.isupper():\n",
    "        new_str += i.lower()\n",
    "    else:\n",
    "        new_str += i.upper()\n",
    "# Выводим новую строку\n",
    "print(new_str)"
   ]
  },
  {
   "cell_type": "markdown",
   "id": "cd191243-50ab-4ac4-8e05-8f4a28de40a6",
   "metadata": {},
   "source": [
    "# В массиве 5*5 обнулить главную и побочную диагональ. Массив сгенерирован случайным образом."
   ]
  },
  {
   "cell_type": "code",
   "execution_count": 9,
   "id": "a2c84b89-f554-4e5f-a7b6-ec1bf96a72c7",
   "metadata": {},
   "outputs": [
    {
     "name": "stdout",
     "output_type": "stream",
     "text": [
      "Первый массив:\n",
      "['к', ')', 'd', 'L', 'H']\n",
      "['X', 'ы', 'л', 'б', '\\\\']\n",
      "['t', '_', 'q', 'X', 'm']\n",
      "['O', 'c', 65, 'o', '^']\n",
      "['d', 'Э', 'P', 67, 40]\n",
      "Массив с обнулёнными диагоналями\n",
      "[0, ')', 'd', 'L', 0]\n",
      "['X', 0, 'л', 0, '\\\\']\n",
      "['t', '_', 0, 'X', 'm']\n",
      "['O', 0, 65, 0, '^']\n",
      "[0, 'Э', 'P', 67, 0]\n"
     ]
    }
   ],
   "source": [
    "import random as r\n",
    "import string as s\n",
    "\n",
    "# Готовый лист с русскими буквами\n",
    "rus = [\"а\",\"б\",\"в\",\"г\",\"д\",\"е\",\"ё\",\"ж\",\"з\",\"и\",\"й\",\"к\",\"л\",\"м\",\"н\",\"о\",\"п\",\"р\",\"с\",\"т\",\"у\",\"ф\",\"х\",\"ц\",\"ч\",\"ш\",\"щ\",\"ъ\",\"ы\",\"ь\",\"э\",\"ю\",\"я\",\"А\",\"Б\",\"В\",\"г\",\"Д\",\"Е\",\"Ё\",\"Ж\",\"З\",\"И\",\"Й\",\"К\",\"Л\",\"М\",\"Н\",\"О\",\"П\",\"Р\",\"С\",\"Т\",\"У\",\"Ф\",\"Х\",\"Ц\",\"Ч\",\"Ш\",\"Щ\",\"Ъ\",\"Ы\",\"Ь\",\"Э\",\"Ю\",\"Я\"]\n",
    "\n",
    "# Создаём пустой лист с вложенными листами\n",
    "array = [\n",
    "    [],\n",
    "    [],\n",
    "    [],\n",
    "    [],\n",
    "    [],\n",
    "]\n",
    "\n",
    "# Наполняем лист случайными символами\n",
    "for row in array:\n",
    "    for column in range(5):\n",
    "        # Выбираем категорию, из которой будет символ\n",
    "        choice = r.randint(1, 5)\n",
    "        if choice == 1:\n",
    "            # Букву нижнего регистра из английского алфавита\n",
    "            char = r.choice(s.ascii_lowercase)\n",
    "            \n",
    "        elif choice == 2:\n",
    "            # Букву верхнего регистра из английского алфавита\n",
    "            char = r.choice(s.ascii_uppercase)\n",
    "            \n",
    "        elif choice == 3:\n",
    "            # Букву любого регистра из русского алфавита\n",
    "            char = r.choice(rus)\n",
    "            \n",
    "        elif choice == 4:\n",
    "            # Цифру от 1 до 100 \n",
    "            char = r.randint(1, 100)\n",
    "            \n",
    "        else:\n",
    "            # Любые другие знаки\n",
    "            char = r.choice(s.punctuation)     \n",
    "        # Добавляем во вложенный лист\n",
    "        row.append(char)\n",
    "\n",
    "# Показываем массив \n",
    "print(\"Первый массив:\") \n",
    "for line in array:\n",
    "    print(line)\n",
    "\n",
    "# Создаём счётчики для удобства обнуления диагоналей\n",
    "main_diagonal = 0\n",
    "sub_diagonal = 4\n",
    "\n",
    "# Обнуляем значения, у которых индекс такой же, как у счётчиков, изменяем счётчики\n",
    "for outer in range(5):\n",
    "    array[outer][main_diagonal] = 0\n",
    "    array[outer][sub_diagonal] = 0\n",
    "    main_diagonal += 1\n",
    "    sub_diagonal -= 1\n",
    "\n",
    "# Показываем изменённые листы пользователю\n",
    "print(\"Массив с обнулёнными диагоналями\")\n",
    "for line in array:\n",
    "    print(line)\n",
    "\n",
    "\n"
   ]
  },
  {
   "cell_type": "markdown",
   "id": "6371b0e9-a344-499c-95fb-f68475a23724",
   "metadata": {},
   "source": [
    "# Вводится строка. Определить в ней количество гласных букв"
   ]
  },
  {
   "cell_type": "code",
   "execution_count": 15,
   "id": "1bb2a2d5-d542-4565-b800-24fe8576cb9d",
   "metadata": {},
   "outputs": [
    {
     "name": "stdin",
     "output_type": "stream",
     "text": [
      "Введите строку:  В недрах тундры выдры в гетрах тырят в ведра ядра кедров\n"
     ]
    },
    {
     "name": "stdout",
     "output_type": "stream",
     "text": [
      "Гласных: 16\n"
     ]
    }
   ],
   "source": [
    "# Ввод данных пользователем\n",
    "user_inp = input(\"Введите строку: \")\n",
    "\n",
    "# Список гласных в русском \n",
    "letters = [\"а\", \"е\", \"ё\", \"и\", \"о\", \"у\", \"ы\", \"э\", \"ю\", \"я\"]\n",
    "\n",
    "# Делаем буквы строчными\n",
    "new_str = user_inp.lower()\n",
    "# Считаем только те, что есть в списке\n",
    "vowels = 0\n",
    "for i in new_str:\n",
    "    if i in letters:\n",
    "        vowels += 1\n",
    "\n",
    "# Меняем текст на получившееся количество букв\n",
    "print(\"Гласных:\", vowels)"
   ]
  },
  {
   "cell_type": "markdown",
   "id": "60fec261-9d5f-4243-af4b-00de0d3062a8",
   "metadata": {},
   "source": [
    "# Найти количество точек с целыми координатами, которые лежат внутри  области, ограниченной неравенствами. Составить программу на Python, проиллюстрировать результат графически"
   ]
  },
  {
   "cell_type": "code",
   "execution_count": 36,
   "id": "2e38aa33-88f3-428d-bbf5-f89a7e4b000a",
   "metadata": {},
   "outputs": [
    {
     "name": "stdout",
     "output_type": "stream",
     "text": [
      "Всего точек: 25\n"
     ]
    },
    {
     "data": {
      "image/png": "[encoded data removed]",
      "text/plain": [
       "<Figure size 640x480 with 1 Axes>"
      ]
     },
     "metadata": {},
     "output_type": "display_data"
    }
   ],
   "source": [
    "import numpy as np\n",
    "import matplotlib.pyplot as plt\n",
    "\n",
    "# Неравенства (Вариант №52)\n",
    "def eq_1(x):\n",
    "    return x**2 + 2*x + 4\n",
    "\n",
    "def eq_2(x):\n",
    "    return 2*x + 12\n",
    "\n",
    "# Создаём массивы х и у, в промежутке которых будем работать\n",
    "x_arr = np.arange(-5, 5)\n",
    "y_arr = np.arange(-10, 16)\n",
    "\n",
    "# Общие целые точки\n",
    "common_points = []\n",
    "for x in x_arr:\n",
    "    for y in y_arr:\n",
    "        if y > eq_1(x) and y < eq_2(x):\n",
    "            common_points.append((x, y))\n",
    "\n",
    "# Делаем из листа массив\n",
    "common_points = np.array(common_points)\n",
    "\n",
    "# Считаем сколько точек получилось \n",
    "count = len(common_points)\n",
    "print(\"Всего точек:\", count)\n",
    "\n",
    "# Настраиваем график\n",
    "plt.figure(num=\"my_figure\", dpi=100)\n",
    "plt.grid(visible=True, linewidth=1)\n",
    "\n",
    "# Строим основные графики\n",
    "x = np.linspace(-5, 5)\n",
    "y1 = eq_1(x)\n",
    "y2 = eq_2(x)\n",
    "plt.plot(x, y1)\n",
    "plt.plot(x, y2)\n",
    "\n",
    "# Ставим точки на целых числах\n",
    "if common_points.size > 0:\n",
    "    plt.scatter(common_points[:, 0], common_points[:, 1], color='violet')\n",
    "\n",
    "# Показываем фигуру\n",
    "plt.show()"
   ]
  },
  {
   "cell_type": "markdown",
   "id": "81445575-b65f-4b8b-bc11-2adcc77e8e9e",
   "metadata": {},
   "source": [
    "# 8_1. С помощью регулярных выражений уберите все символы пунктуации из предложения: sentence = \"A, very very; irregular_sentence\" "
   ]
  },
  {
   "cell_type": "code",
   "execution_count": 15,
   "id": "01d24c3e-0857-410a-b124-6bcd259692cf",
   "metadata": {},
   "outputs": [
    {
     "name": "stdout",
     "output_type": "stream",
     "text": [
      "С помощью регулярных выражений уберите все символы пунктуации из предложения\n",
      "A very very irregular sentence\n"
     ]
    }
   ],
   "source": [
    "import re\n",
    "print('С помощью регулярных выражений уберите все символы пунктуации из предложения')\n",
    "inp = '''A, very very; irregular_sentence'''\n",
    "new_str = re.sub(r'[^a-zA-Z\\s]', ' ', inp)\n",
    "clean_str = re.sub(r'\\s+', ' ', new_str).strip()\n",
    "print(clean_str)"
   ]
  },
  {
   "cell_type": "markdown",
   "id": "d9802279-9ae9-459e-8078-9916779a1b9f",
   "metadata": {},
   "source": [
    "# 8_2. Дана последовательность строк. Выведите строки, содержащие слово, состоящее из двух одинаковых частей (тандемный повтор).\n"
   ]
  },
  {
   "cell_type": "code",
   "execution_count": 17,
   "id": "9139799a-f4a3-4d38-8a38-3eab50fd7435",
   "metadata": {},
   "outputs": [
    {
     "name": "stdout",
     "output_type": "stream",
     "text": [
      "Выведите строки, содержащие слово, состоящее из двух одинаковых частей (тандемный повтор).\n",
      "blabla is a tandem repetition\n",
      "123123 is good too\n"
     ]
    }
   ],
   "source": [
    "import re\n",
    "print('Выведите строки, содержащие слово, состоящее из двух одинаковых частей (тандемный повтор).')\n",
    "inp = '''blabla is a tandem repetition\n",
    "        123123 is good too\n",
    "        go go\n",
    "        aaa\n",
    "        '''\n",
    "pattern = r'\\b(\\w+)\\1\\b'\n",
    "\n",
    "for line in inp.split('\\n'):\n",
    "    if re.search(pattern, line):\n",
    "        print(line.strip())"
   ]
  },
  {
   "cell_type": "markdown",
   "id": "64f78c92-c7ec-4ce7-a298-d4bdb55ab219",
   "metadata": {},
   "source": [
    "# 8_3. Дана последовательность строк. Выведите строки, содержащие \"cat\" в качестве подстроки хотя бы два раза.\n"
   ]
  },
  {
   "cell_type": "code",
   "execution_count": 28,
   "id": "a6bb581e-e923-4265-91e7-82d97e5ac243",
   "metadata": {},
   "outputs": [
    {
     "name": "stdout",
     "output_type": "stream",
     "text": [
      "Выведите строки, содержащие \"cat\" в качестве подстроки хотя бы два раза.\n",
      "catcat\n",
      "cat and cat\n"
     ]
    }
   ],
   "source": [
    "import re\n",
    "print('Выведите строки, содержащие \"cat\" в качестве подстроки хотя бы два раза.')\n",
    "inp = '''catcat\n",
    "        cat and cat\n",
    "        catac\n",
    "        cat\n",
    "        ccaatt\n",
    "        '''\n",
    "pattern = r'(cat.*cat)'  \n",
    "for s in inp.split('\\n'):\n",
    "    if re.search(pattern, s):\n",
    "        print(s.strip())"
   ]
  },
  {
   "cell_type": "markdown",
   "id": "be911ea3-5a7d-485f-a4cd-afef5b6f9b15",
   "metadata": {},
   "source": [
    "# 8_4. Дана последовательность строк. Выведите строки, содержащие \"cat\" в качестве слова.\n"
   ]
  },
  {
   "cell_type": "code",
   "execution_count": 31,
   "id": "c77f7795-d1a5-4c2c-aaf2-e313ff36cbe0",
   "metadata": {},
   "outputs": [
    {
     "name": "stdout",
     "output_type": "stream",
     "text": [
      "Выведите строки, содержащие \"cat\" в качестве слова.\n",
      "cat\n",
      "catapult and cat\n",
      "\"cat\"\n",
      "!cat?\n"
     ]
    }
   ],
   "source": [
    "import re\n",
    "print('Выведите строки, содержащие \"cat\" в качестве слова.')\n",
    "inp = '''cat\n",
    "        catapult and cat\n",
    "        catcat\n",
    "        concat\n",
    "        Cat\n",
    "        \"cat\"\n",
    "        !cat?\n",
    "        '''\n",
    "pattern = r'\\bcat\\b'\n",
    "\n",
    "for s in inp.split('\\n'):\n",
    "    if re.search(pattern, s):\n",
    "        print(s.strip())"
   ]
  },
  {
   "cell_type": "markdown",
   "id": "d45e30bc-35f3-4d1d-a325-8ca750f5445b",
   "metadata": {},
   "source": [
    "# 8_5. Дана последовательность строк. Выведите строки, содержащие обратный слеш \"\\\\\".\n"
   ]
  },
  {
   "cell_type": "code",
   "execution_count": null,
   "id": "bceb84dc-a0e8-4897-98cf-beb5004bb0d1",
   "metadata": {},
   "outputs": [],
   "source": [
    "import re\n",
    "print('Выведите строки, содержащие обратный слеш \"\\\\\".')\n",
    "inp = '''\\w denotes word character\n",
    "        No slashes here\n",
    "        '''\n",
    "pattern = r'\\\\' \n",
    "\n",
    "for s in inp.split('\\n'):\n",
    "    if re.search(pattern, s):\n",
    "        print(s.strip())"
   ]
  },
  {
   "cell_type": "markdown",
   "id": "6172d99f-fb0e-4d67-ae36-3b7b0baae3ec",
   "metadata": {},
   "source": [
    "# 8_6. Дана последовательность строк. В каждой строке замените все вхождения подстроки \"human\" на подстроку \"computer\" и выведите полученные строки.\n"
   ]
  },
  {
   "cell_type": "code",
   "execution_count": 23,
   "id": "c782552d-b77d-4279-8c3b-3acf7ec0c245",
   "metadata": {},
   "outputs": [
    {
     "name": "stdout",
     "output_type": "stream",
     "text": [
      "В каждой строке замените все вхождения подстроки \"human\" на подстроку \"computer\" и выведите полученные строки.\n",
      "I need to understand the computer mind\n",
      "computerity\n",
      "\n"
     ]
    }
   ],
   "source": [
    "import re\n",
    "print(\"В каждой строке замените все вхождения подстроки \\\"human\\\" на подстроку \\\"computer\\\" и выведите полученные строки.\")\n",
    "inp = '''I need to understand the human mind\n",
    "        humanity\n",
    "        '''\n",
    "text = re.sub(r'human', 'computer', inp)\n",
    "\n",
    "for s in text.split('\\n'):\n",
    "    print(s.strip())\n"
   ]
  },
  {
   "cell_type": "markdown",
   "id": "41eae116-a674-46e9-81b6-287fd44c0207",
   "metadata": {},
   "source": [
    "# 8_7. Дана последовательность строк. В каждой строке замените первое вхождение слова, состоящего только из латинских букв \"a\" (регистр не важен), на слово \"argh\".\n"
   ]
  },
  {
   "cell_type": "code",
   "execution_count": 26,
   "id": "1c873f82-e1a6-4c2f-9ac0-eba2ac0585cc",
   "metadata": {},
   "outputs": [
    {
     "name": "stdout",
     "output_type": "stream",
     "text": [
      "В каждой строке замените первое вхождение слова, состоящего только из латинских букв \"a\" (регистр не важен), на слово \"argh\".\n",
      "There’ll be no more \"argh\"\n",
      "AaAaAaA AaAaAaA\n",
      "\n"
     ]
    }
   ],
   "source": [
    "import re\n",
    "print(\"В каждой строке замените первое вхождение слова, состоящего только из латинских букв \\\"a\\\" (регистр не важен), на слово \\\"argh\\\".\")\n",
    "inp = '''There’ll be no more \"Aaaaaaaaaaaaaaa\"\n",
    "        AaAaAaA AaAaAaA\n",
    "        '''\n",
    "\n",
    "new_str = re.sub(r'\\b[aA]+\\b', 'argh', inp, count=1)\n",
    "for s in new_str.split('\\n'):\n",
    "    print(s.strip())"
   ]
  },
  {
   "cell_type": "markdown",
   "id": "d33b94eb-68dc-4b68-bb40-80e2b4eaa1f3",
   "metadata": {},
   "source": [
    "# 8_8. Дана последовательность строк. В каждой строке поменяйте местами две первых буквы в каждом слове, состоящем хотя бы из двух букв. Буквой считается символ из группы \\w.\n"
   ]
  },
  {
   "cell_type": "code",
   "execution_count": 28,
   "id": "6ca81915-7853-4d71-a188-46633226dc95",
   "metadata": {},
   "outputs": [
    {
     "name": "stdout",
     "output_type": "stream",
     "text": [
      "В каждой строке поменяйте местами две первые буквы каждого слова, состоящего хотя бы из двух букв.\n",
      "htis si a etxt\n",
      "\"htis' !si. ?1nce,\n",
      "\n"
     ]
    }
   ],
   "source": [
    "import re\n",
    "print(\"В каждой строке поменяйте местами две первые буквы каждого слова, состоящего хотя бы из двух букв.\")\n",
    "inp = '''this is a text\n",
    "        \"this' !is. ?n1ce,\n",
    "        '''\n",
    "\n",
    "pattern = r'(\\w)(\\w)(\\w*)'\n",
    "replacement = r'\\2\\1\\3'\n",
    "\n",
    "result = re.sub(pattern, replacement, inp)\n",
    "for s in result.split('\\n'):\n",
    "    print(s.strip())"
   ]
  },
  {
   "cell_type": "markdown",
   "id": "44cdebbe-c9c7-46f1-b10a-ba6458cd94af",
   "metadata": {},
   "source": [
    "# 8_9. Дана последовательность строк. В каждой строке замените все вхождения нескольких одинаковых букв на одну букву. Буквой считается символ из группы \\w.\n"
   ]
  },
  {
   "cell_type": "code",
   "execution_count": 29,
   "id": "1322ad1b-4648-4862-b480-dc37911b9cff",
   "metadata": {},
   "outputs": [
    {
     "name": "stdout",
     "output_type": "stream",
     "text": [
      "В каждой строке замените все вхождения нескольких одинаковых букв на одну букву.\n",
      "atraction\n",
      "buz\n",
      "\n"
     ]
    }
   ],
   "source": [
    "import re\n",
    "print(\"В каждой строке замените все вхождения нескольких одинаковых букв на одну букву.\")\n",
    "inp = '''attraction\n",
    "        buzzzz\n",
    "        '''\n",
    "pattern = r'(\\w)\\1+'\n",
    "\n",
    "result = re.sub(pattern, r'\\1', inp)\n",
    "for s in result.split('\\n'):\n",
    "    print(s.strip())"
   ]
  },
  {
   "cell_type": "markdown",
   "id": "e371e05c-78bc-46d1-bc2a-e52e7fef479f",
   "metadata": {},
   "source": [
    "# 8_10.\tИзвлеките никнейм пользователя, имя домена и суффикс из данных email адресов.\n",
    "emails = \"\"\"zuck26@facebook.com              # Многострочный комментарий\n",
    "page33@google.com  \n",
    "jeff42@amazon.com\"\"\"  "
   ]
  },
  {
   "cell_type": "code",
   "execution_count": 30,
   "id": "621acc2d-b72b-4ab2-a656-2edb6d39f66b",
   "metadata": {},
   "outputs": [
    {
     "name": "stdout",
     "output_type": "stream",
     "text": [
      "Извлеките никнейм пользователя, имя домена и суффикс из данных email адресов\n",
      "[('zuck26', 'facebook', 'com'), ('page33', 'google', 'com'), ('jeff42', 'amazon', 'com')]\n"
     ]
    }
   ],
   "source": [
    "import re\n",
    "print(\"Извлеките никнейм пользователя, имя домена и суффикс из данных email адресов\")\n",
    "emails = '''emails = \"\"\"zuck26@facebook.com              # Многострочный комментарий\n",
    "        page33@google.com  \n",
    "        jeff42@amazon.com\"\"\"  \n",
    "        '''\n",
    "pattern = r'\\s*(\\w+)@(\\w+)\\.(\\w+)'\n",
    "result = re.findall(pattern, emails)\n",
    "print(result)"
   ]
  },
  {
   "cell_type": "markdown",
   "id": "483516d2-b1d8-4521-944b-8c4d6ede5639",
   "metadata": {},
   "source": [
    "# 9. С помощью регулярных выражений извлеките ФИО, Email и номера телефонов из предложения"
   ]
  },
  {
   "cell_type": "code",
   "execution_count": 31,
   "id": "b7394c73-39f0-45ac-bd72-1879dfc1590b",
   "metadata": {},
   "outputs": [
    {
     "name": "stdout",
     "output_type": "stream",
     "text": [
      "ФИО: Петров В.П. \n",
      "Email: ['petrov@mail.ru'] \n",
      "Телефон: ['+7(918)240-04-40', '+7(926)718-33-22']\n"
     ]
    }
   ],
   "source": [
    "import re\n",
    "text = '''студент Петров В.П. - группа УМР11 тел. +7(918)240-04-40\n",
    "# Email: petrov@mail.ru доп. тел +7(926)718-33-22'''\n",
    "name_ptn = r'[А-ЯЁ][а-яё]+\\s[А-ЯЁ]\\.[А-ЯЁ]\\.'\n",
    "email_ptn = r'[a-zA-Z0-9._%+-]+@[a-zA-Z0-9.-]+\\.[a-zA-Z]{2,}'\n",
    "phone_ptn = r'\\+7\\(\\d{3}\\)\\d{3}-\\d{2}-\\d{2}'\n",
    "\n",
    "\n",
    "fio = re.search(name_ptn, text).group()\n",
    "emails = re.findall(email_ptn, text)\n",
    "phones = re.findall(phone_ptn, text)\n",
    "\n",
    "print(\"ФИО:\", fio, \"\\nEmail:\", emails, \"\\nТелефон:\", phones)"
   ]
  },
  {
   "cell_type": "code",
   "execution_count": null,
   "id": "b5e35579-a426-41fa-b355-36e426c1d326",
   "metadata": {},
   "outputs": [],
   "source": []
  }
 ],
 "metadata": {
  "kernelspec": {
   "display_name": "Python 3 (ipykernel)",
   "language": "python",
   "name": "python3"
  },
  "language_info": {
   "codemirror_mode": {
    "name": "ipython",
    "version": 3
   },
   "file_extension": ".py",
   "mimetype": "text/x-python",
   "name": "python",
   "nbconvert_exporter": "python",
   "pygments_lexer": "ipython3",
   "version": "3.13.2"
  }
 },
 "nbformat": 4,
 "nbformat_minor": 5
}
