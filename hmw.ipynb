{
 "cells": [
  {
   "cell_type": "markdown",
   "id": "d73156b2-b8ea-4c5e-93f7-846a1a52c769",
   "metadata": {},
   "source": [
    "Даны действительные числа А, В, С - стороны треугольника, найти его периметр."
   ]
  },
  {
   "cell_type": "code",
   "execution_count": null,
   "id": "939703f3-b848-4e82-9bcd-f0a1238253df",
   "metadata": {},
   "outputs": [],
   "source": [
    "a = int(input(\"Длина стороны A: \"))\n",
    "b = int(input(\"Длина стороны B: \"))\n",
    "c = int(input(\"Длина стороны C: \"))\n",
    "# Проверка на существование треугольника\n",
    "if (a + b > c) and (a + c > b) and (b + c > a):\n",
    "    perimetr = a + b + c\n",
    "    print(\"Периметр треугольника равен:\", perimetr)\n",
    "else:\n",
    "    print(\"Такого треугольника не бывает\")"
   ]
  },
  {
   "cell_type": "markdown",
   "id": "49b2d4e9-6691-46b0-ac75-78f7c48c18ea",
   "metadata": {},
   "source": [
    "Даны целочисленные координаты трёх вершин прямоугольника, стороны которого параллельны координатным осям. Найти координаты его четвёртой вершины."
   ]
  },
  {
   "cell_type": "code",
   "execution_count": 9,
   "id": "8598bdaa-9948-446f-ac32-de9092742a27",
   "metadata": {},
   "outputs": [
    {
     "name": "stdout",
     "output_type": "stream",
     "text": [
      "Формат ввода координат: x, y\n"
     ]
    },
    {
     "name": "stdin",
     "output_type": "stream",
     "text": [
      "Первая точка:  -4, 2\n",
      "Вторая точка:  3, 2\n",
      "Третья точка:  3, -1\n"
     ]
    },
    {
     "name": "stdout",
     "output_type": "stream",
     "text": [
      "Координаты четвёртой точки: -4.0 -1.0\n"
     ]
    },
    {
     "data": {
      "image/png": "[encoded data removed]",
      "text/plain": [
       "<Figure size 640x480 with 1 Axes>"
      ]
     },
     "metadata": {},
     "output_type": "display_data"
    }
   ],
   "source": [
    "import matplotlib.pyplot as plt\n",
    "from collections import Counter\n",
    "from math import sqrt\n",
    "\n",
    "print(\"Формат ввода координат: x, y\")\n",
    "x1, y1 = map(int, input(\"Первая точка: \").split(\", \"))\n",
    "x2, y2 = map(int, input(\"Вторая точка: \").split(\", \"))\n",
    "x3, y3 = map(int, input(\"Третья точка: \").split(\", \"))\n",
    "\n",
    "# Ищем есть ли больше 2 одинаковых координат\n",
    "x_count = Counter([x1, x2, x3])\n",
    "y_count = Counter([y1, y2, y3])\n",
    "x_dupl = [item for item in x_count if x_count[item] > 2]\n",
    "y_dupl = [item for item in y_count if y_count[item] > 2]\n",
    "\n",
    "# Если есть три одинаковые координаты\n",
    "if len(x_dupl) > 0 or len(y_dupl) > 0:\n",
    "    print(\"Такой прямоугольник не существует\")\n",
    "\n",
    "else:  \n",
    "    # Находим длины отрезков\n",
    "    a = sqrt((x2 - x1) ** 2 + (y2 - y1) ** 2)\n",
    "    b = sqrt((x3 - x1) ** 2 + (y3 - y1) ** 2)\n",
    "    c = sqrt((x3 - x2) ** 2 + (y3 - y2) ** 2)\n",
    "\n",
    "    # Проверка на возможное существование такого треугольника \n",
    "    if (a + b < c) or (a + c < b) or (b + c < a):\n",
    "         print(\"Такой прямоугольник не существует\")\n",
    "    else: \n",
    "        # Вычисляем что из данного - гипотенуза\n",
    "        hypotenuse = max(a, b, c)\n",
    "\n",
    "        if hypotenuse == a:\n",
    "            x_points = [x1, x3, x2]\n",
    "            y_points = [y1, y3, y2]\n",
    "        elif hypotenuse == c:\n",
    "            x_points = [x3, x1, x2]\n",
    "            y_points = [y3, y1, y2]\n",
    "        else:\n",
    "            x_points = [x1, x2, x3]\n",
    "            y_points = [y1, y2, y3]\n",
    "            \n",
    "        # Координаты середины гипотенузы \n",
    "        midl_x = (x_points[0] + x_points[2]) / 2\n",
    "        midl_y = (y_points[0] + y_points[2]) / 2\n",
    "        \n",
    "        # Нахождение четвёртой координаты\n",
    "        d_x = midl_x * 2 - x_points[1]\n",
    "        d_y = midl_y * 2 - y_points[1]\n",
    "        \n",
    "\n",
    "        # Добавляем точки в список, чтобы начертить прямоугольник\n",
    "        x_points.append(d_x)\n",
    "        x_points.append(x_points[0])\n",
    "        y_points.append(d_y)\n",
    "        y_points.append(y_points[0])\n",
    "        \n",
    "\n",
    "        print(\"Координаты четвёртой точки:\", d_x, d_y)\n",
    "        \n",
    "        # Построение графика\n",
    "        plt.figure(num=\"Прямоугольник\")\n",
    "        plt.grid(True)\n",
    "        plt.plot(x_points, y_points)\n",
    "        plt.show()\n",
    "\n",
    "\n"
   ]
  },
  {
   "cell_type": "markdown",
   "id": "04237c24-8427-4b6e-ab6e-2a0591a43319",
   "metadata": {},
   "source": [
    "По координатам определить, в какой четверти находится точка. Отобразить точку на осях координат"
   ]
  },
  {
   "cell_type": "code",
   "execution_count": null,
   "id": "48b7208e-e42b-46df-837b-e6058f298657",
   "metadata": {},
   "outputs": [],
   "source": [
    "import matplotlib.pyplot as plt \n",
    "    \n",
    "# Получаем координаты точки\n",
    "x = int(input(\"Введите координаты точки x: \"))\n",
    "y = int(input(\"Введите координаты точки y: \"))\n",
    "\n",
    "\n",
    "# Определение, в какой четверти находится точка ()\n",
    "if x > 0 and y > 0:\n",
    "    point = \"в 1 четверти\"\n",
    "elif x < 0 and y > 0:\n",
    "    point = \"во 2 четверти\"\n",
    "elif x < 0 and y <0:\n",
    "    point = \"в 3 четверти\"\n",
    "elif x > 0 and y < 0:\n",
    "    point = \"в 4 четверти\"\n",
    "elif (x > 0 and y == 0) or (x < 0 and y == 0):\n",
    "    point = \"на оси X\"\n",
    "elif (x == 0 and y < 0) or (x == 0 and y > 0):\n",
    "    point = \"на оси Y\"\n",
    "else:\n",
    "    point = \"в начале координат\"\n",
    "\n",
    "print(\"Точка находится\", point)\n",
    "\n",
    "# Создаём фигуру\n",
    "plt.figure(num=\"dot\")\n",
    "plt.plot(x, y, \"ro\")\n",
    "plt.show()\n"
   ]
  },
  {
   "cell_type": "markdown",
   "id": "a13cbc6c-868b-4e05-a43a-b46c171f4d08",
   "metadata": {},
   "source": [
    "Перевести символы нижнего регистра в верхний, а верхнего в нижний"
   ]
  },
  {
   "cell_type": "code",
   "execution_count": null,
   "id": "eb51e131-7275-4c61-b534-22925814f186",
   "metadata": {},
   "outputs": [],
   "source": [
    "inp = input(\"Введите строку: \")\n",
    "new_str = \"\"\n",
    "for i in inp:\n",
    "    # Меняем регистры\n",
    "    if i.isupper():\n",
    "        new_str += i.lower()\n",
    "    else:\n",
    "        new_str += i.upper()\n",
    "        \n",
    "print(new_str)"
   ]
  },
  {
   "cell_type": "markdown",
   "id": "fa4ec753-aae0-4bca-b415-553ef1f7e914",
   "metadata": {},
   "source": [
    "В массиве 5*5 обнулить главную и побочную диагональ. Массив сгенерирован случайным образом."
   ]
  },
  {
   "cell_type": "code",
   "execution_count": null,
   "id": "931bbee7-28db-422d-a9e2-f08d18aa7616",
   "metadata": {},
   "outputs": [],
   "source": [
    "import random as r\n",
    "import string as s\n",
    "\n",
    "# Создаём пустой лист с вложенными листами\n",
    "array = [\n",
    "    [],\n",
    "    [],\n",
    "    [],\n",
    "    [],\n",
    "    [],\n",
    "]\n",
    "\n",
    "# Наполняем лист случайными символами\n",
    "for row in array:\n",
    "    for column in range(5):\n",
    "        # Выбираем категорию, из которой будет символ\n",
    "        choice = r.randint(1, 4)\n",
    "        if choice == 1:\n",
    "            # Букву верхнего регистра из английского алфавита\n",
    "            char = r.choice(s.ascii_uppercase)\n",
    "            \n",
    "        elif choice == 2:\n",
    "            # Букву нижнего регистра из английского алфавита\n",
    "            char = r.choice(s.ascii_lowercase)\n",
    "            \n",
    "        elif choice == 3:\n",
    "            # Цифру от 1 до 20 \n",
    "            char = r.randint(1, 20)\n",
    "            \n",
    "        else:\n",
    "            # Любые другие знаки\n",
    "            char = r.choice(s.punctuation)     \n",
    "        # Добавляем во вложенный лист\n",
    "        row.append(char)\n",
    "\n",
    "# Показываем массив \n",
    "print(\"Первый массив:\") \n",
    "for line in array:\n",
    "    print(line)\n",
    "\n",
    "# Создаём счётчики для обнуления диагоналей\n",
    "main_diagonal = 0\n",
    "sub_diagonal = 4\n",
    "\n",
    "# Обнуляем значения, у которых индекс такой же, как у счётчиков\n",
    "for outer in range(5):\n",
    "    array[outer][main_diagonal] = 0\n",
    "    array[outer][sub_diagonal] = 0\n",
    "    main_diagonal += 1\n",
    "    sub_diagonal -= 1\n",
    "\n",
    "# Показываем изменённые листы пользователю\n",
    "print(\"Массив с обнулёнными диагоналями\")\n",
    "for line in array:\n",
    "    print(line)"
   ]
  },
  {
   "cell_type": "markdown",
   "id": "d57e17a5-b87b-4c7d-8cc4-c329c5e644ec",
   "metadata": {},
   "source": [
    "Вводится строка. Определить в ней количество гласных букв"
   ]
  },
  {
   "cell_type": "code",
   "execution_count": null,
   "id": "2650c261-a2d6-4ccb-8da3-d542442dabf2",
   "metadata": {},
   "outputs": [],
   "source": [
    "user_inp = input(\"Введите строку: \")\n",
    "# Список гласных в русском \n",
    "letters = [\"а\", \"е\", \"ё\", \"и\", \"о\", \"у\", \"ы\", \"э\", \"ю\", \"я\"]\n",
    "\n",
    "# Делаем буквы строчными\n",
    "new_str = user_inp.lower()\n",
    "# Считаем только те, что есть в списке\n",
    "vowels = 0\n",
    "for i in new_str:\n",
    "    if i in letters:\n",
    "        vowels += 1\n",
    "\n",
    "# Меняем текст на получившееся количество букв\n",
    "print(\"Гласных:\", vowels)"
   ]
  },
  {
   "cell_type": "markdown",
   "id": "98624b47-6d8b-47fc-b8c7-488500a028fb",
   "metadata": {},
   "source": [
    "Найти количество точек с целыми координатами, которые лежат внутри области, ограниченной неравенствами. Составить программу на Python, проиллюстрировать результат графически"
   ]
  },
  {
   "cell_type": "code",
   "execution_count": 15,
   "id": "f5602c3e-a859-4dfc-84f3-71dbbb1409ba",
   "metadata": {},
   "outputs": [
    {
     "name": "stdout",
     "output_type": "stream",
     "text": [
      "Всего точек: 70\n"
     ]
    },
    {
     "data": {
      "image/png": "[encoded data removed]",
      "text/plain": [
       "<Figure size 640x480 with 1 Axes>"
      ]
     },
     "metadata": {},
     "output_type": "display_data"
    }
   ],
   "source": [
    "import numpy as np\n",
    "import matplotlib.pyplot as plt\n",
    "\n",
    "# Вариант №68\n",
    "def eq_1(x):\n",
    "    return x**2 + 4*x - 1\n",
    "\n",
    "def eq_2(x):\n",
    "    return - x/3 + 9\n",
    "\n",
    "# Создаём массивы х и у, в промежутке которых будем работать\n",
    "x_arr = np.arange(-7, 4)\n",
    "y_arr = np.arange(-10, 16)\n",
    "\n",
    "# Общие целые точки\n",
    "common_points = []\n",
    "for x in x_arr:\n",
    "    for y in y_arr:\n",
    "        if y > eq_1(x) and y < eq_2(x):\n",
    "            common_points.append((x, y))\n",
    "\n",
    "# Делаем из листа массив\n",
    "common_points = np.array(common_points)\n",
    "\n",
    "# Считаем сколько точек получилось \n",
    "count = len(common_points)\n",
    "print(\"Всего точек:\", count)\n",
    "\n",
    "# Настраиваем график\n",
    "plt.figure(num=\"my_figure\", dpi=100)\n",
    "plt.grid(True)\n",
    "\n",
    "# Строим основные графики\n",
    "x = np.linspace(-7, 4)\n",
    "y1 = eq_1(x)\n",
    "y2 = eq_2(x)\n",
    "plt.plot(x, y1)\n",
    "plt.plot(x, y2)\n",
    "\n",
    "# Ставим точки на целых числах\n",
    "if common_points.size > 0:\n",
    "    plt.scatter(common_points[:, 0], common_points[:, 1], color='red')\n",
    "\n",
    "# Показываем фигуру\n",
    "plt.show()"
   ]
  },
  {
   "cell_type": "markdown",
   "id": "6949bcd9-c930-4a5b-a16b-f6655f1dfa4a",
   "metadata": {},
   "source": [
    "8_1. С помощью регулярных выражений уберите все символы пунктуации из предложения: sentence = \"A, very very; irregular_sentence\""
   ]
  },
  {
   "cell_type": "code",
   "execution_count": 16,
   "id": "3de4ebd5-a51f-433c-ac4d-36ba7557f552",
   "metadata": {},
   "outputs": [
    {
     "name": "stdout",
     "output_type": "stream",
     "text": [
      "A very very irregular sentence\n"
     ]
    }
   ],
   "source": [
    "import re\n",
    "text = '''A, very very; irregular_sentence'''\n",
    "new_str = re.sub(r'[^a-zA-Z\\s]', ' ', text)\n",
    "clean_str = re.sub(r'\\s+', ' ', new_str).strip()\n",
    "print(clean_str)"
   ]
  },
  {
   "cell_type": "markdown",
   "id": "7f65c395-3d99-47a9-ba07-c39f37ca1dcf",
   "metadata": {},
   "source": [
    "8_2. Дана последовательность строк. Выведите строки, содержащие слово, состоящее из двух одинаковых частей (тандемный повтор)"
   ]
  },
  {
   "cell_type": "code",
   "execution_count": 17,
   "id": "12d125e9-a797-4072-a2c5-5531697f8767",
   "metadata": {},
   "outputs": [
    {
     "name": "stdout",
     "output_type": "stream",
     "text": [
      "blabla is a tandem repetition\n",
      "123123 is good too\n"
     ]
    }
   ],
   "source": [
    "import re\n",
    "text = '''blabla is a tandem repetition\n",
    "        123123 is good too\n",
    "        go go\n",
    "        aaa\n",
    "        '''\n",
    "pattern = r'\\b(\\w+)\\1\\b'\n",
    "\n",
    "for s in text.split('\\n'):\n",
    "    if re.search(pattern, s):\n",
    "        print(s.strip())"
   ]
  },
  {
   "cell_type": "markdown",
   "id": "3b665b3e-e0bc-4d4c-ab70-cfdf39ce2f58",
   "metadata": {},
   "source": [
    "8_3. Дана последовательность строк. Выведите строки, содержащие \"cat\" в качестве подстроки хотя бы два раза"
   ]
  },
  {
   "cell_type": "code",
   "execution_count": 18,
   "id": "cd5aaa73-0e85-4538-8026-f66b0a2a192b",
   "metadata": {},
   "outputs": [
    {
     "name": "stdout",
     "output_type": "stream",
     "text": [
      "catcat\n",
      "cat and cat\n"
     ]
    }
   ],
   "source": [
    "import re\n",
    "text = '''catcat\n",
    "        cat and cat\n",
    "        catac\n",
    "        cat\n",
    "        ccaatt\n",
    "        '''\n",
    "pattern = r'(cat.*cat)'  \n",
    "for s in text.split('\\n'):\n",
    "    if re.search(pattern, s):\n",
    "        print(s.strip())"
   ]
  },
  {
   "cell_type": "markdown",
   "id": "75bd8df1-478d-413b-baad-9b617eb216e4",
   "metadata": {},
   "source": [
    "8_4. Дана последовательность строк. Выведите строки, содержащие \"cat\" в качестве слова"
   ]
  },
  {
   "cell_type": "code",
   "execution_count": 19,
   "id": "6815a3ac-d832-4f91-9310-88147b707d56",
   "metadata": {},
   "outputs": [
    {
     "name": "stdout",
     "output_type": "stream",
     "text": [
      "cat\n",
      "catapult and cat\n",
      "\"cat\"\n",
      "!cat?\n"
     ]
    }
   ],
   "source": [
    "import re\n",
    "text = '''cat\n",
    "        catapult and cat\n",
    "        catcat\n",
    "        concat\n",
    "        Cat\n",
    "        \"cat\"\n",
    "        !cat?\n",
    "        '''\n",
    "pattern = r'\\bcat\\b'\n",
    "\n",
    "for s in text.split('\\n'):\n",
    "    if re.search(pattern, s):\n",
    "        print(s.strip())"
   ]
  },
  {
   "cell_type": "markdown",
   "id": "99494c9b-fcf8-4c59-8d07-e112a04aeb2e",
   "metadata": {},
   "source": [
    "8_5. Дана последовательность строк. Выведите строки, содержащие обратный слеш \"\\\\\""
   ]
  },
  {
   "cell_type": "code",
   "execution_count": null,
   "id": "3ef38240-3206-4c59-8567-86a8d32cd846",
   "metadata": {},
   "outputs": [],
   "source": [
    "import re\n",
    "text = '''\\w denotes word character\n",
    "        No slashes here\n",
    "        '''\n",
    "pattern = r'\\\\' \n",
    "\n",
    "for s in text.split('\\n'):\n",
    "    if re.search(pattern, s):\n",
    "        print(s.strip())"
   ]
  },
  {
   "cell_type": "markdown",
   "id": "f74fdd18-b36b-478e-b85f-66cfa9eebe30",
   "metadata": {},
   "source": [
    "8_6. Дана последовательность строк. В каждой строке замените все вхождения подстроки \"human\" на подстроку \"computer\" и выведите полученные строки"
   ]
  },
  {
   "cell_type": "code",
   "execution_count": null,
   "id": "8d6e6f8a-5320-4b6e-b313-83f52293edfd",
   "metadata": {},
   "outputs": [],
   "source": [
    "import re\n",
    "text = '''I need to understand the human mind\n",
    "        humanity\n",
    "        '''\n",
    "new_str = re.sub(r'human', 'computer', text)\n",
    "\n",
    "for s in new_str.split('\\n'):\n",
    "    print(s.strip())"
   ]
  },
  {
   "cell_type": "markdown",
   "id": "3a5750b1-c813-4b39-bbf9-57e06c8f6733",
   "metadata": {},
   "source": [
    "8_7. Дана последовательность строк. В каждой строке замените первое вхождение слова, состоящего только из латинских букв \"a\" (регистр не важен), на слово \"argh\""
   ]
  },
  {
   "cell_type": "code",
   "execution_count": null,
   "id": "47a450d2-92d0-4042-ad04-d5a9561aa9eb",
   "metadata": {},
   "outputs": [],
   "source": [
    "import re\n",
    "text = '''There’ll be no more \"Aaaaaaaaaaaaaaa\"\n",
    "        AaAaAaA AaAaAaA\n",
    "        '''\n",
    "\n",
    "new_str = re.sub(r'\\b[aA]+\\b', 'argh', text, count=1)\n",
    "for s in new_str.split('\\n'):\n",
    "    print(s.strip())"
   ]
  },
  {
   "cell_type": "markdown",
   "id": "16b55ac0-ea40-4edb-89d3-b9ba8b746550",
   "metadata": {},
   "source": [
    "8_8. Дана последовательность строк. В каждой строке поменяйте местами две первых буквы в каждом слове, состоящем хотя бы из двух букв. Буквой считается символ из группы \\w"
   ]
  },
  {
   "cell_type": "code",
   "execution_count": null,
   "id": "704fa304-211e-4cfa-98e1-3e639fab38d7",
   "metadata": {},
   "outputs": [],
   "source": [
    "import re\n",
    "text = '''this is a text\n",
    "        \"this' !is. ?n1ce,\n",
    "        '''\n",
    "\n",
    "pattern = r'(\\w)(\\w)(\\w*)'\n",
    "replacement = r'\\2\\1\\3'\n",
    "\n",
    "new_str = re.sub(pattern, replacement, text)\n",
    "for s in new_str.split('\\n'):\n",
    "    print(s.strip())"
   ]
  },
  {
   "cell_type": "markdown",
   "id": "ce8aed7b-5a76-4c63-aac7-e366fba64b9a",
   "metadata": {},
   "source": [
    "8_9. Дана последовательность строк. В каждой строке замените все вхождения нескольких одинаковых букв на одну букву. Буквой считается символ из группы \\w"
   ]
  },
  {
   "cell_type": "code",
   "execution_count": null,
   "id": "310501ec-d1fe-4c14-a3bc-d5c2d44462ed",
   "metadata": {},
   "outputs": [],
   "source": [
    "import re\n",
    "text = '''attraction\n",
    "        buzzzz\n",
    "        '''\n",
    "pattern = r'(\\w)\\1+'\n",
    "\n",
    "result = re.sub(pattern, r'\\1', text)\n",
    "for s in result.split('\\n'):\n",
    "    print(s.strip())"
   ]
  },
  {
   "cell_type": "markdown",
   "id": "9527d46f-e64b-4ee3-8b59-f9685c321e46",
   "metadata": {},
   "source": [
    "8_10. Извлеките никнейм пользователя, имя домена и суффикс из данных email адресов"
   ]
  },
  {
   "cell_type": "code",
   "execution_count": null,
   "id": "ba8188b7-304d-4979-ae06-77d956dd3a92",
   "metadata": {},
   "outputs": [],
   "source": [
    "import re\n",
    "emails = '''emails = \"\"\"zuck26@facebook.com              # Многострочный комментарий\n",
    "        page33@google.com  \n",
    "        jeff42@amazon.com\"\"\"  \n",
    "        '''\n",
    "pattern = r'\\s*(\\w+)@(\\w+)\\.(\\w+)'\n",
    "result = re.findall(pattern, emails)\n",
    "print(result)"
   ]
  },
  {
   "cell_type": "markdown",
   "id": "b2d39d11-fdf4-4e0d-a64a-1607e68f593d",
   "metadata": {},
   "source": [
    "9. С помощью регулярных выражений извлеките ФИО, Email и номера телефонов из предложения"
   ]
  },
  {
   "cell_type": "code",
   "execution_count": 21,
   "id": "234b132b-789f-45f2-b239-872ca717fb68",
   "metadata": {},
   "outputs": [
    {
     "name": "stdout",
     "output_type": "stream",
     "text": [
      "ФИО: Петров В.П.\n",
      "Email: ['petrov@mail.ru']\n",
      "Телефон: ['+7(918)240-04-40', '+7(926)718-33-22']\n"
     ]
    }
   ],
   "source": [
    "import re\n",
    "text = '''студент Петров В.П. - группа УМР11 тел. +7(918)240-04-40\n",
    "# Email: petrov@mail.ru доп. тел +7(926)718-33-22'''\n",
    "name_ptn = r'[А-ЯЁ][а-яё]+\\s[А-ЯЁ]\\.[А-ЯЁ]\\.'\n",
    "email_ptn = r'[a-zA-Z0-9._%+-]+@[a-zA-Z0-9.-]+\\.[a-zA-Z]{2,}'\n",
    "phone_ptn = r'\\+7\\(\\d{3}\\)\\d{3}-\\d{2}-\\d{2}'\n",
    "\n",
    "\n",
    "fio = re.search(name_ptn, text).group()\n",
    "emails = re.findall(email_ptn, text)\n",
    "phones = re.findall(phone_ptn, text)\n",
    "\n",
    "print(\"ФИО:\", fio)\n",
    "print(\"Email:\", emails) \n",
    "print(\"Телефон:\", phones)"
   ]
  },
  {
   "cell_type": "code",
   "execution_count": null,
   "id": "7eb51379-b485-49ad-aadd-5afb930672ef",
   "metadata": {},
   "outputs": [],
   "source": []
  }
 ],
 "metadata": {
  "kernelspec": {
   "display_name": "Python 3 (ipykernel)",
   "language": "python",
   "name": "python3"
  },
  "language_info": {
   "codemirror_mode": {
    "name": "ipython",
    "version": 3
   },
   "file_extension": ".py",
   "mimetype": "text/x-python",
   "name": "python",
   "nbconvert_exporter": "python",
   "pygments_lexer": "ipython3",
   "version": "3.13.2"
  }
 },
 "nbformat": 4,
 "nbformat_minor": 5
}
