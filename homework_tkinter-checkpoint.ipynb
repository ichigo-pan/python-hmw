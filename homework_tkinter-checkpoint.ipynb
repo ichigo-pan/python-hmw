{
 "cells": [
  {
   "cell_type": "markdown",
   "id": "9fc09ad3",
   "metadata": {},
   "source": [
    "### А, В, С - треугольник. Найти периметр."
   ]
  },
  {
   "cell_type": "code",
   "execution_count": null,
   "id": "3c90447b",
   "metadata": {
    "vscode": {
     "languageId": "plaintext"
    }
   },
   "outputs": [],
   "source": [
    "A, B, C = int(input(''))"
   ]
  }
 ],
 "metadata": {
  "language_info": {
   "name": "python"
  }
 },
 "nbformat": 4,
 "nbformat_minor": 5
}
